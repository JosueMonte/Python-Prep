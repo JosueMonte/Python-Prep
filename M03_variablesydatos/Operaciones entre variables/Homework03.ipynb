{
 "cells": [
  {
   "cell_type": "code",
   "execution_count": 33,
   "metadata": {},
   "outputs": [
    {
     "name": "stdout",
     "output_type": "stream",
     "text": [
      "5\n"
     ]
    }
   ],
   "source": [
    "#1.\n",
    "x=5\n",
    "print(x)"
   ]
  },
  {
   "cell_type": "code",
   "execution_count": 29,
   "metadata": {},
   "outputs": [
    {
     "name": "stdout",
     "output_type": "stream",
     "text": [
      "<class 'float'>\n"
     ]
    }
   ],
   "source": [
    "#2.\n",
    "print(type(8.5))"
   ]
  },
  {
   "cell_type": "code",
   "execution_count": 3,
   "metadata": {},
   "outputs": [
    {
     "name": "stdout",
     "output_type": "stream",
     "text": [
      "<class 'int'>\n"
     ]
    }
   ],
   "source": [
    "#3.\n",
    "print(type(x))"
   ]
  },
  {
   "cell_type": "code",
   "execution_count": 5,
   "metadata": {},
   "outputs": [
    {
     "name": "stdout",
     "output_type": "stream",
     "text": [
      "Josue Monte\n"
     ]
    }
   ],
   "source": [
    "#4.\n",
    "y='Josue Monte'\n",
    "print(y)"
   ]
  },
  {
   "cell_type": "code",
   "execution_count": 6,
   "metadata": {},
   "outputs": [],
   "source": [
    "#5.\n",
    "z=8j"
   ]
  },
  {
   "cell_type": "code",
   "execution_count": 7,
   "metadata": {},
   "outputs": [
    {
     "data": {
      "text/plain": [
       "complex"
      ]
     },
     "execution_count": 7,
     "metadata": {},
     "output_type": "execute_result"
    }
   ],
   "source": [
    "#6.\n",
    "type(z)"
   ]
  },
  {
   "cell_type": "code",
   "execution_count": 9,
   "metadata": {},
   "outputs": [],
   "source": [
    "#7. \n",
    "import math"
   ]
  },
  {
   "cell_type": "code",
   "execution_count": 14,
   "metadata": {},
   "outputs": [],
   "source": [
    "w=math.pi"
   ]
  },
  {
   "cell_type": "code",
   "execution_count": 15,
   "metadata": {},
   "outputs": [
    {
     "data": {
      "text/plain": [
       "3.1416"
      ]
     },
     "execution_count": 15,
     "metadata": {},
     "output_type": "execute_result"
    }
   ],
   "source": [
    "2round(w,4)"
   ]
  },
  {
   "cell_type": "code",
   "execution_count": 32,
   "metadata": {},
   "outputs": [
    {
     "name": "stdout",
     "output_type": "stream",
     "text": [
      "True\n",
      "<class 'str'>\n",
      "True\n",
      "<class 'bool'>\n",
      "True\n",
      "<class 'bool'>\n"
     ]
    }
   ],
   "source": [
    "#8y9. El valor 'True' es una función string, mientras que el valor True es una función bool. Por tal motivo, son distintos\n",
    "a='True'\n",
    "b=True\n",
    "c=bool(1)\n",
    "print(a)\n",
    "print(type(a))\n",
    "print(b)\n",
    "print(type(b))\n",
    "print(c)\n",
    "print(type(c))\n"
   ]
  },
  {
   "cell_type": "code",
   "execution_count": 40,
   "metadata": {},
   "outputs": [
    {
     "name": "stdout",
     "output_type": "stream",
     "text": [
      "10.5\n"
     ]
    }
   ],
   "source": [
    "#10.\n",
    "c=5+5.5\n",
    "print(c)\n"
   ]
  },
  {
   "cell_type": "code",
   "execution_count": 41,
   "metadata": {},
   "outputs": [
    {
     "name": "stdout",
     "output_type": "stream",
     "text": [
      "(15+15j)\n"
     ]
    }
   ],
   "source": [
    "#11.\n",
    "d=5+5j\n",
    "e=10+10j\n",
    "f=d+e\n",
    "print(f)"
   ]
  },
  {
   "cell_type": "code",
   "execution_count": 43,
   "metadata": {},
   "outputs": [
    {
     "name": "stdout",
     "output_type": "stream",
     "text": [
      "(100+100j)\n"
     ]
    }
   ],
   "source": [
    "#12.\n",
    "g=100\n",
    "h=100j\n",
    "i=g+h\n",
    "print(i)"
   ]
  },
  {
   "cell_type": "code",
   "execution_count": 44,
   "metadata": {},
   "outputs": [
    {
     "name": "stdout",
     "output_type": "stream",
     "text": [
      "25\n"
     ]
    }
   ],
   "source": [
    "#13.\n",
    "j=5*5\n",
    "print(j)"
   ]
  },
  {
   "cell_type": "code",
   "execution_count": 45,
   "metadata": {},
   "outputs": [
    {
     "name": "stdout",
     "output_type": "stream",
     "text": [
      "256\n"
     ]
    }
   ],
   "source": [
    "#14.\n",
    "k=2**8\n",
    "print(k)"
   ]
  },
  {
   "cell_type": "code",
   "execution_count": 46,
   "metadata": {},
   "outputs": [
    {
     "name": "stdout",
     "output_type": "stream",
     "text": [
      "6.75\n"
     ]
    }
   ],
   "source": [
    "#15.\n",
    "l=27/4\n",
    "print(l)"
   ]
  },
  {
   "cell_type": "code",
   "execution_count": 47,
   "metadata": {},
   "outputs": [
    {
     "name": "stdout",
     "output_type": "stream",
     "text": [
      "6\n"
     ]
    }
   ],
   "source": [
    "#16.\n",
    "m=27//4\n",
    "print(m)"
   ]
  },
  {
   "cell_type": "code",
   "execution_count": 48,
   "metadata": {},
   "outputs": [
    {
     "name": "stdout",
     "output_type": "stream",
     "text": [
      "3\n"
     ]
    }
   ],
   "source": [
    "#17.\n",
    "n=27%4\n",
    "print(n)"
   ]
  },
  {
   "cell_type": "code",
   "execution_count": 49,
   "metadata": {},
   "outputs": [
    {
     "name": "stdout",
     "output_type": "stream",
     "text": [
      "27\n"
     ]
    }
   ],
   "source": [
    "#18.\n",
    "o=4*6+3\n",
    "print(o)"
   ]
  },
  {
   "cell_type": "code",
   "execution_count": 33,
   "metadata": {},
   "outputs": [
    {
     "name": "stdout",
     "output_type": "stream",
     "text": [
      "Buenos Aires\n"
     ]
    }
   ],
   "source": [
    "#19.\n",
    "a='Buenos '\n",
    "b='Aires'\n",
    "c=a+b\n",
    "print(c)\n"
   ]
  },
  {
   "cell_type": "code",
   "execution_count": 34,
   "metadata": {},
   "outputs": [
    {
     "name": "stdout",
     "output_type": "stream",
     "text": [
      "<class 'str'>\n",
      "<class 'int'>\n"
     ]
    },
    {
     "data": {
      "text/plain": [
       "False"
      ]
     },
     "execution_count": 34,
     "metadata": {},
     "output_type": "execute_result"
    }
   ],
   "source": [
    "#20. Rta: \"2\" no es igual a 2 porque \"2\" es un dato tipo string y 2 es un dato tipo int\n",
    "print(type(\"2\"))\n",
    "print(type(2))\n",
    "2=='2'"
   ]
  },
  {
   "cell_type": "code",
   "execution_count": 35,
   "metadata": {},
   "outputs": [
    {
     "name": "stdout",
     "output_type": "stream",
     "text": [
      "<class 'str'>\n",
      "<class 'int'>\n"
     ]
    },
    {
     "data": {
      "text/plain": [
       "True"
      ]
     },
     "execution_count": 35,
     "metadata": {},
     "output_type": "execute_result"
    }
   ],
   "source": [
    "#21.\n",
    "print(type(\"2\"))\n",
    "print(type(2))\n",
    "2==int('2')"
   ]
  },
  {
   "cell_type": "code",
   "execution_count": 37,
   "metadata": {},
   "outputs": [
    {
     "ename": "ValueError",
     "evalue": "could not convert string to float: '3,8'",
     "output_type": "error",
     "traceback": [
      "\u001b[1;31m---------------------------------------------------------------------------\u001b[0m",
      "\u001b[1;31mValueError\u001b[0m                                Traceback (most recent call last)",
      "\u001b[1;32mc:\\Users\\Roxi bonita\\OneDrive\\Documentos\\One drive - Josué\\OneDrive\\Henry - Data Scientist\\Python-Prep\\M03_variablesydatos\\Operaciones entre variables\\Homework03.ipynb Cell 23\u001b[0m line \u001b[0;36m2\n\u001b[0;32m      <a href='vscode-notebook-cell:/c%3A/Users/Roxi%20bonita/OneDrive/Documentos/One%20drive%20-%20Josu%C3%A9/OneDrive/Henry%20-%20Data%20Scientist/Python-Prep/M03_variablesydatos/Operaciones%20entre%20variables/Homework03.ipynb#X35sZmlsZQ%3D%3D?line=0'>1</a>\u001b[0m \u001b[39m#22. Rta: a=float('3,8') arroja un mensaje de error porque está con coma, en lugar de punto, es decir, debiera decir: 3.8.\u001b[39;00m\n\u001b[1;32m----> <a href='vscode-notebook-cell:/c%3A/Users/Roxi%20bonita/OneDrive/Documentos/One%20drive%20-%20Josu%C3%A9/OneDrive/Henry%20-%20Data%20Scientist/Python-Prep/M03_variablesydatos/Operaciones%20entre%20variables/Homework03.ipynb#X35sZmlsZQ%3D%3D?line=1'>2</a>\u001b[0m a\u001b[39m=\u001b[39m\u001b[39mfloat\u001b[39;49m(\u001b[39m\"\u001b[39;49m\u001b[39m3,8\u001b[39;49m\u001b[39m\"\u001b[39;49m)\n\u001b[0;32m      <a href='vscode-notebook-cell:/c%3A/Users/Roxi%20bonita/OneDrive/Documentos/One%20drive%20-%20Josu%C3%A9/OneDrive/Henry%20-%20Data%20Scientist/Python-Prep/M03_variablesydatos/Operaciones%20entre%20variables/Homework03.ipynb#X35sZmlsZQ%3D%3D?line=2'>3</a>\u001b[0m \u001b[39mprint\u001b[39m(\u001b[39mtype\u001b[39m(a))\n\u001b[0;32m      <a href='vscode-notebook-cell:/c%3A/Users/Roxi%20bonita/OneDrive/Documentos/One%20drive%20-%20Josu%C3%A9/OneDrive/Henry%20-%20Data%20Scientist/Python-Prep/M03_variablesydatos/Operaciones%20entre%20variables/Homework03.ipynb#X35sZmlsZQ%3D%3D?line=3'>4</a>\u001b[0m \u001b[39mprint\u001b[39m(a)\n",
      "\u001b[1;31mValueError\u001b[0m: could not convert string to float: '3,8'"
     ]
    }
   ],
   "source": [
    "#22. Rta: a=float('3,8') arroja un mensaje de error porque está con coma, en lugar de punto, es decir, debiera decir: 3.8.\n",
    "a=float(\"3,8\")\n",
    "print(type(a))\n",
    "print(a)"
   ]
  },
  {
   "cell_type": "code",
   "execution_count": 17,
   "metadata": {},
   "outputs": [
    {
     "name": "stdout",
     "output_type": "stream",
     "text": [
      "2\n"
     ]
    }
   ],
   "source": [
    "#23.\n",
    "a=3\n",
    "a-=1\n",
    "print(a)\n"
   ]
  },
  {
   "cell_type": "code",
   "execution_count": 19,
   "metadata": {},
   "outputs": [
    {
     "data": {
      "text/plain": [
       "4"
      ]
     },
     "execution_count": 19,
     "metadata": {},
     "output_type": "execute_result"
    }
   ],
   "source": [
    "#24. Rta: El sistema de numeración binario es un sistema numérico que solo utiliza dígitos 0 y 1. Lo que ocurre, es que 1<<2 es una operación de desplazamiento, es decir, <001> significa 2^0=1, pero si lo corro dos dígitos a la izquierda <100>, resulta: 2^2=4,\n",
    "1<<2"
   ]
  },
  {
   "cell_type": "code",
   "execution_count": 1,
   "metadata": {},
   "outputs": [
    {
     "ename": "TypeError",
     "evalue": "unsupported operand type(s) for +: 'int' and 'str'",
     "output_type": "error",
     "traceback": [
      "\u001b[1;31m---------------------------------------------------------------------------\u001b[0m",
      "\u001b[1;31mTypeError\u001b[0m                                 Traceback (most recent call last)",
      "\u001b[1;32mc:\\Users\\Roxi bonita\\OneDrive\\Documentos\\One drive - Josué\\OneDrive\\Henry - Data Scientist\\Python-Prep\\M03_variablesydatos\\Operaciones entre variables\\Homework03.ipynb Cell 26\u001b[0m line \u001b[0;36m2\n\u001b[0;32m      <a href='vscode-notebook-cell:/c%3A/Users/Roxi%20bonita/OneDrive/Documentos/One%20drive%20-%20Josu%C3%A9/OneDrive/Henry%20-%20Data%20Scientist/Python-Prep/M03_variablesydatos/Operaciones%20entre%20variables/Homework03.ipynb#X34sZmlsZQ%3D%3D?line=0'>1</a>\u001b[0m \u001b[39m#25. La operación 2+'2' no está permitido porque no se puede sumar una variable tipo int y una variable tipo string\u001b[39;00m\n\u001b[1;32m----> <a href='vscode-notebook-cell:/c%3A/Users/Roxi%20bonita/OneDrive/Documentos/One%20drive%20-%20Josu%C3%A9/OneDrive/Henry%20-%20Data%20Scientist/Python-Prep/M03_variablesydatos/Operaciones%20entre%20variables/Homework03.ipynb#X34sZmlsZQ%3D%3D?line=1'>2</a>\u001b[0m \u001b[39m2\u001b[39;49m\u001b[39m+\u001b[39;49m\u001b[39m'\u001b[39;49m\u001b[39m2\u001b[39;49m\u001b[39m'\u001b[39;49m\n\u001b[0;32m      <a href='vscode-notebook-cell:/c%3A/Users/Roxi%20bonita/OneDrive/Documentos/One%20drive%20-%20Josu%C3%A9/OneDrive/Henry%20-%20Data%20Scientist/Python-Prep/M03_variablesydatos/Operaciones%20entre%20variables/Homework03.ipynb#X34sZmlsZQ%3D%3D?line=3'>4</a>\u001b[0m \u001b[39mprint\u001b[39m(\u001b[39mfloat\u001b[39m(\u001b[39m'\u001b[39m\u001b[39m2\u001b[39m\u001b[39m'\u001b[39m)\u001b[39m+\u001b[39m\u001b[39mfloat\u001b[39m(\u001b[39m2\u001b[39m))\n\u001b[0;32m      <a href='vscode-notebook-cell:/c%3A/Users/Roxi%20bonita/OneDrive/Documentos/One%20drive%20-%20Josu%C3%A9/OneDrive/Henry%20-%20Data%20Scientist/Python-Prep/M03_variablesydatos/Operaciones%20entre%20variables/Homework03.ipynb#X34sZmlsZQ%3D%3D?line=4'>5</a>\u001b[0m \u001b[39mprint\u001b[39m(\u001b[39mint\u001b[39m(\u001b[39m'\u001b[39m\u001b[39m2\u001b[39m\u001b[39m'\u001b[39m)\u001b[39m+\u001b[39m\u001b[39mint\u001b[39m(\u001b[39m2\u001b[39m))\n",
      "\u001b[1;31mTypeError\u001b[0m: unsupported operand type(s) for +: 'int' and 'str'"
     ]
    }
   ],
   "source": [
    "#25. La operación 2+'2' no está permitido porque no se puede sumar una variable tipo int y una variable tipo string\n",
    "2+'2'\n",
    "\n",
    "\n"
   ]
  },
  {
   "cell_type": "code",
   "execution_count": 2,
   "metadata": {},
   "outputs": [
    {
     "name": "stdout",
     "output_type": "stream",
     "text": [
      "4.0\n",
      "4\n",
      "22\n"
     ]
    }
   ],
   "source": [
    "print(float('2')+float(2))\n",
    "print(int('2')+int(2))\n",
    "print(str('2')+str(2))"
   ]
  },
  {
   "cell_type": "code",
   "execution_count": 5,
   "metadata": {},
   "outputs": [
    {
     "name": "stdout",
     "output_type": "stream",
     "text": [
      "Bienvenido a Henry Bienvenido a Henry  2  veces\n"
     ]
    }
   ],
   "source": [
    "#26.\n",
    "a='Bienvenido a Henry '\n",
    "b=2\n",
    "c=a*b\n",
    "print(c,b,' veces')\n"
   ]
  }
 ],
 "metadata": {
  "kernelspec": {
   "display_name": "Python 3",
   "language": "python",
   "name": "python3"
  },
  "language_info": {
   "codemirror_mode": {
    "name": "ipython",
    "version": 3
   },
   "file_extension": ".py",
   "mimetype": "text/x-python",
   "name": "python",
   "nbconvert_exporter": "python",
   "pygments_lexer": "ipython3",
   "version": "3.11.5"
  },
  "orig_nbformat": 4
 },
 "nbformat": 4,
 "nbformat_minor": 2
}
